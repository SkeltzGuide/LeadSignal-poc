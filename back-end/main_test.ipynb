{
 "cells": [
  {
   "cell_type": "code",
   "execution_count": null,
   "id": "04cc8f35",
   "metadata": {},
   "outputs": [],
   "source": [
    "from functions import scrape_target_site, timetohire_parser, init_db, DB_NAME, store_jobs, detect_job_changes"
   ]
  },
  {
   "cell_type": "code",
   "execution_count": 3,
   "id": "4e163b82",
   "metadata": {},
   "outputs": [],
   "source": [
    "site = \"tth.nl\"\n",
    "url = \"https://www.werkenbijtimetohire.nl/\"\n",
    "\n",
    "soup = scrape_target_site(site, url)\n",
    "results = timetohire_parser(soup, site)"
   ]
  },
  {
   "cell_type": "code",
   "execution_count": 4,
   "id": "1d559fad",
   "metadata": {},
   "outputs": [
    {
     "data": {
      "text/plain": [
       "[{'company': 'TTH',\n",
       "  'source': 'job_board',\n",
       "  'title': 'RPO Recruiter Breda',\n",
       "  'url': 'tth.nl/vacatures/rpo-recruiter-breda',\n",
       "  'description': 'Van arbeidsbemiddeling naar recruitment op topniveau? Dan is dit jouw vervolgstap.'},\n",
       " {'company': 'TTH',\n",
       "  'source': 'job_board',\n",
       "  'title': 'Stagiair(e) Recruitment Rijswijk/Den Bosch',\n",
       "  'url': 'tth.nl/vacatures/stagiaire-recruitment-rijswijk-den-bosch',\n",
       "  'description': 'Bij ons ben je niet zomaar een stagiair. Je bent een collega. Draai volledig mee in ons recruitmentteam en leer van tientallen recruitment specialisten die jouw collega worden.'},\n",
       " {'company': 'TTH',\n",
       "  'source': 'job_board',\n",
       "  'title': 'Lead RPO Recruiter Rotterdam',\n",
       "  'url': 'tth.nl/vacatures/lead-rpo-recruiter-rotterdam',\n",
       "  'description': 'Maak impact en be bold. Als recruiter op een RPO-project of een interim-opdracht bij één van onze aansprekende opdrachtgevers'},\n",
       " {'company': 'TTH',\n",
       "  'source': 'job_board',\n",
       "  'title': 'Lead RPO Recruiter Utrecht',\n",
       "  'url': 'tth.nl/vacatures/lead-rpo-recruiter-utrecht',\n",
       "  'description': 'Maak impact en be bold. Neem de leiding op een RPO Project en laat zien hoe je duurzaam recruitment neerzet'}]"
      ]
     },
     "execution_count": 4,
     "metadata": {},
     "output_type": "execute_result"
    }
   ],
   "source": [
    "results"
   ]
  },
  {
   "cell_type": "code",
   "execution_count": 7,
   "id": "5969f2d6",
   "metadata": {},
   "outputs": [
    {
     "name": "stdout",
     "output_type": "stream",
     "text": [
      "✅ Database initialized at: c:\\Users\\Job\\OneDrive\\Documenten\\ZZP\\SalesGuide\\LeadSignal\\POC\\back-end\\jobs.db\n"
     ]
    }
   ],
   "source": [
    "init_db()\n",
    "print(\"✅ Database initialized at:\", DB_NAME)\n",
    "store_jobs(results)"
   ]
  },
  {
   "cell_type": "code",
   "execution_count": 14,
   "id": "9d3d3d13",
   "metadata": {},
   "outputs": [
    {
     "data": {
      "text/plain": [
       "{'new': [{'company': 'TTH',\n",
       "   'source': 'job_board',\n",
       "   'title': 'Stagiair(e) Recruitment Rijswijk/Den Bosch',\n",
       "   'url': 'tth.nl/vacatures/stagiaire-recruitment-rijswijk-den-bosch',\n",
       "   'description': 'Bij ons ben je niet zomaar een stagiair. Je bent een collega. Draai volledig mee in ons recruitmentteam en leer van tientallen recruitment specialisten die jouw collega worden.',\n",
       "   'status': 'new'}],\n",
       " 'changed': [],\n",
       " 'removed': []}"
      ]
     },
     "execution_count": 14,
     "metadata": {},
     "output_type": "execute_result"
    }
   ],
   "source": [
    "changes = detect_job_changes(results)\n",
    "changes"
   ]
  }
 ],
 "metadata": {
  "kernelspec": {
   "display_name": "py311",
   "language": "python",
   "name": "python3"
  },
  "language_info": {
   "codemirror_mode": {
    "name": "ipython",
    "version": 3
   },
   "file_extension": ".py",
   "mimetype": "text/x-python",
   "name": "python",
   "nbconvert_exporter": "python",
   "pygments_lexer": "ipython3",
   "version": "3.11.11"
  }
 },
 "nbformat": 4,
 "nbformat_minor": 5
}
