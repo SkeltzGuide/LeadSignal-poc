{
 "cells": [
  {
   "cell_type": "markdown",
   "id": "84539bf3",
   "metadata": {},
   "source": [
    "- simple test for integrating agents as a function in a hybrid workflow\n",
    "- current set-up checks for a present key and generates one if missing by calling an agent\n",
    "- in production this would be writing custom parsers for the result of a specific web scrape. \n",
    "- a function write_parser and check_parser would have to cooperate to get to an end result"
   ]
  },
  {
   "cell_type": "code",
   "execution_count": 1,
   "id": "04cc8f35",
   "metadata": {},
   "outputs": [
    {
     "name": "stderr",
     "output_type": "stream",
     "text": [
      "c:\\Users\\Job\\anaconda3\\envs\\py311\\Lib\\site-packages\\tqdm\\auto.py:21: TqdmWarning: IProgress not found. Please update jupyter and ipywidgets. See https://ipywidgets.readthedocs.io/en/stable/user_install.html\n",
      "  from .autonotebook import tqdm as notebook_tqdm\n"
     ]
    }
   ],
   "source": [
    "from google.adk.runners import Runner\n",
    "from google.adk.sessions import InMemorySessionService\n",
    "from google.genai import types\n",
    "from parser_agent.agents import key_agent"
   ]
  },
  {
   "cell_type": "code",
   "execution_count": 2,
   "id": "d370a4e5",
   "metadata": {},
   "outputs": [],
   "source": [
    "session_service = InMemorySessionService()\n",
    "\n",
    "session = await session_service.create_session(\n",
    "    app_name='hybrid_workflow_integration_test',\n",
    "    user_id='job',\n",
    "    session_id='first_test'\n",
    ")\n",
    "\n",
    "runner = Runner(agent=key_agent,\n",
    "                app_name='hybrid_workflow_integration_test',\n",
    "                session_service=session_service)"
   ]
  },
  {
   "cell_type": "code",
   "execution_count": null,
   "id": "162764a2",
   "metadata": {},
   "outputs": [],
   "source": [
    "# Prepare the user's message in ADK format\n",
    "content = types.Content(role='user', parts=[types.Part(text='generate a single key')])\n",
    "\n",
    "async def key_agent(content):\n",
    "    async for event in runner.run_async(user_id='job',session_id='first_test',new_message=content):\n",
    "        #print(f\"  [Event] Author: {event.author}, Type: {type(event).__name__}, Final: {event.is_final_response()}, Content: {event.content}\")\n",
    "\n",
    "        final_response_text = 'error'\n",
    "        # Key Concept: is_final_response() marks the concluding message for the turn.\n",
    "        if event.is_final_response():\n",
    "            if event.content and event.content.parts:\n",
    "                # Assuming text response in the first part\n",
    "                final_response_text = event.content.parts[0].text\n",
    "            elif event.actions and event.actions.escalate: # Handle potential errors/escalations\n",
    "                final_response_text = f\"Agent escalated: {event.error_message or 'No specific message.'}\"\n",
    "            return int(final_response_text)\n",
    "        \n",
    "\n",
    "# turn off the stupid warning with logging"
   ]
  },
  {
   "cell_type": "code",
   "execution_count": 24,
   "id": "ab8576ed",
   "metadata": {},
   "outputs": [
    {
     "name": "stderr",
     "output_type": "stream",
     "text": [
      "Warning: there are non-text parts in the response: ['function_call'], returning concatenated text result from text parts. Check the full candidates.content.parts accessor to get the full model response.\n"
     ]
    },
    {
     "data": {
      "text/plain": [
       "223"
      ]
     },
     "execution_count": 24,
     "metadata": {},
     "output_type": "execute_result"
    }
   ],
   "source": [
    "result = await key_agent(content)\n",
    "result"
   ]
  },
  {
   "cell_type": "code",
   "execution_count": 26,
   "id": "c9c8050d",
   "metadata": {},
   "outputs": [],
   "source": [
    "jobs = {\n",
    "    \"job1\":{\n",
    "        \"name\":\"test_job_1\",\n",
    "        \"key\":6348\n",
    "    },\n",
    "    \n",
    "    \"job2\":{\n",
    "        \"name\":\"test_job_2\",\n",
    "        \"key\":None\n",
    "    }\n",
    "}"
   ]
  },
  {
   "cell_type": "code",
   "execution_count": 27,
   "id": "22596816",
   "metadata": {},
   "outputs": [
    {
     "name": "stdout",
     "output_type": "stream",
     "text": [
      "Running job for: job1\n",
      "Job key is: 6348\n",
      "Key found for job1\n",
      "6348\n",
      "Running job for: job2\n",
      "Job key is: None\n",
      "No key found for job2\n",
      "Generating key...\n"
     ]
    },
    {
     "name": "stderr",
     "output_type": "stream",
     "text": [
      "Warning: there are non-text parts in the response: ['function_call'], returning concatenated text result from text parts. Check the full candidates.content.parts accessor to get the full model response.\n",
      "Warning: there are non-text parts in the response: ['function_call'], returning concatenated text result from text parts. Check the full candidates.content.parts accessor to get the full model response.\n",
      "Warning: there are non-text parts in the response: ['function_call'], returning concatenated text result from text parts. Check the full candidates.content.parts accessor to get the full model response.\n",
      "Warning: there are non-text parts in the response: ['function_call'], returning concatenated text result from text parts. Check the full candidates.content.parts accessor to get the full model response.\n"
     ]
    },
    {
     "name": "stdout",
     "output_type": "stream",
     "text": [
      "Key: 563\n",
      "Key stored\n"
     ]
    }
   ],
   "source": [
    "for job_name, job in jobs.items():\n",
    "    print(f\"Running job for: {job_name}\")\n",
    "    print(f\"Job key is: {job['key']}\")\n",
    "\n",
    "    if job['key'] is not None:\n",
    "        print(f\"Key found for {job_name}\")\n",
    "        print(job['key'])\n",
    "    \n",
    "    else:\n",
    "        print(f\"No key found for {job_name}\")\n",
    "        print(\"Generating key...\")\n",
    "        key = await key_agent(content)\n",
    "        print(f\"Key: {key}\")\n",
    "        job['key'] = key\n",
    "        print(\"Key stored\")"
   ]
  },
  {
   "cell_type": "code",
   "execution_count": 28,
   "id": "8d9e3cae",
   "metadata": {},
   "outputs": [
    {
     "data": {
      "text/plain": [
       "{'job1': {'name': 'test_job_1', 'key': 6348},\n",
       " 'job2': {'name': 'test_job_2', 'key': 563}}"
      ]
     },
     "execution_count": 28,
     "metadata": {},
     "output_type": "execute_result"
    }
   ],
   "source": [
    "jobs"
   ]
  }
 ],
 "metadata": {
  "kernelspec": {
   "display_name": "py311",
   "language": "python",
   "name": "python3"
  },
  "language_info": {
   "codemirror_mode": {
    "name": "ipython",
    "version": 3
   },
   "file_extension": ".py",
   "mimetype": "text/x-python",
   "name": "python",
   "nbconvert_exporter": "python",
   "pygments_lexer": "ipython3",
   "version": "3.11.11"
  }
 },
 "nbformat": 4,
 "nbformat_minor": 5
}
